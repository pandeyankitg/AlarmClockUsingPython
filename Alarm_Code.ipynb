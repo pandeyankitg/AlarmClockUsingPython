{
  "nbformat": 4,
  "nbformat_minor": 0,
  "metadata": {
    "colab": {
      "provenance": []
    },
    "kernelspec": {
      "name": "python3",
      "display_name": "Python 3"
    },
    "language_info": {
      "name": "python"
    }
  },
  "cells": [
    {
      "cell_type": "code",
      "execution_count": 2,
      "metadata": {
        "colab": {
          "base_uri": "https://localhost:8080/",
          "height": 131
        },
        "id": "mAI_hLr3C9Sr",
        "outputId": "1a02195e-fe26-4dde-b988-79d56c305128"
      },
      "outputs": [
        {
          "output_type": "error",
          "ename": "SyntaxError",
          "evalue": "ignored",
          "traceback": [
            "\u001b[0;36m  File \u001b[0;32m\"<ipython-input-2-736c135285c3>\"\u001b[0;36m, line \u001b[0;32m3\u001b[0m\n\u001b[0;31m    import playsound from tkinter import *\u001b[0m\n\u001b[0m                     ^\u001b[0m\n\u001b[0;31mSyntaxError\u001b[0m\u001b[0;31m:\u001b[0m invalid syntax\n"
          ]
        }
      ],
      "source": [
        "# Import necessary libraries\n",
        "import time\n",
        "import playsound from tkinter import *\n",
        "\n",
        "# Create a GUI window\n",
        "root = Tk()\n",
        "root.title(\"Alarm Clock\")\n",
        "\n",
        "# Set dimensions of the window\n",
        "root.geometry(\"400x200\")\n",
        "\n",
        "# Create a label widget for the user to set the alarm\n",
        "Label(root, text=\"Set Alarm (in minutes):\", font=(\"Arial\", 14)).pack(pady=20)\n",
        "\n",
        "# Create an entry widget for the user to input the alarm time\n",
        "entry = Entry(root, font=(\"Arial\", 14))\n",
        "entry.pack(pady=20)\n",
        "\n",
        "# Function to set the alarm\n",
        "def set_alarm():\n",
        "    # Get the alarm time from the user input\n",
        "    alarm_time = entry.get()\n",
        "    \n",
        "    # Convert alarm time to seconds\n",
        "    alarm_seconds = int(alarm_time) * 60\n",
        "    \n",
        "    # Sleep for the alarm time\n",
        "    time.sleep(alarm_seconds)\n",
        "    \n",
        "    # Play an alarm sound\n",
        "    playsound.playsound(\"alarm_sound.mp3\")\n",
        "    \n",
        "    # Show a message box when the alarm goes off\n",
        "    message_box = messagebox.showinfo(\"Alarm\", \"Time's up!\")\n",
        "\n",
        "# Create a button widget to set the alarm\n",
        "Button(root, text=\"Set Alarm\", font=(\"Arial\", 14), command=set_alarm).pack()\n",
        "\n",
        "# Run the GUI window\n",
        "root.mainloop()\n"
      ]
    }
  ]
}